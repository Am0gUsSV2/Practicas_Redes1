{
 "cells": [
  {
   "cell_type": "code",
   "execution_count": null,
   "metadata": {},
   "outputs": [
    {
     "name": "stdout",
     "output_type": "stream",
     "text": [
      "b'ABCDEFGHIJKLABCDEFGHIJKL'\n"
     ]
    }
   ],
   "source": [
    "icmp_data = b'ABCDEFGHIJKL'\n",
    "n = 33\n",
    "icmp_data = (icmp_data * ((n // 12) + 1))[:n]\n",
    "print (icmp_data)"
   ]
  },
  {
   "cell_type": "code",
   "execution_count": 8,
   "metadata": {},
   "outputs": [
    {
     "name": "stdout",
     "output_type": "stream",
     "text": [
      "IPv:  10\n",
      "IHL:  4\n"
     ]
    }
   ],
   "source": [
    "import struct\n",
    "\n",
    "numero = 0b10100100 # 10 y 4\n",
    "\n",
    "data = struct.pack('B', numero)\n",
    "\n",
    "first_byte = data[0]\n",
    "ip_version = (first_byte & 0b11110000) >> 4\n",
    "ihl        = (first_byte & 0b00001111) >> 0\n",
    "\n",
    "print('IPv: ', ip_version)\n",
    "print('IHL: ', ihl)\n"
   ]
  },
  {
   "cell_type": "code",
   "execution_count": 7,
   "metadata": {},
   "outputs": [
    {
     "name": "stdout",
     "output_type": "stream",
     "text": [
      "<class 'int'>\n",
      "170\n"
     ]
    }
   ],
   "source": [
    "numero = 0xAABBCCDD\n",
    "\n",
    "data = bytes()\n",
    "data += struct.pack('!I', numero)\n",
    "\n",
    "fb = data[0]\n",
    "\n",
    "print(type(fb))\n",
    "print(fb)\n"
   ]
  }
 ],
 "metadata": {
  "kernelspec": {
   "display_name": "base",
   "language": "python",
   "name": "python3"
  },
  "language_info": {
   "codemirror_mode": {
    "name": "ipython",
    "version": 3
   },
   "file_extension": ".py",
   "mimetype": "text/x-python",
   "name": "python",
   "nbconvert_exporter": "python",
   "pygments_lexer": "ipython3",
   "version": "3.12.4"
  }
 },
 "nbformat": 4,
 "nbformat_minor": 2
}
