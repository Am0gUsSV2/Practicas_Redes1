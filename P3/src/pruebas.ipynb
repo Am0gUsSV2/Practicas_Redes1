{
 "cells": [
  {
   "cell_type": "code",
   "execution_count": null,
   "metadata": {},
   "outputs": [
    {
     "name": "stdout",
     "output_type": "stream",
     "text": [
      "b'ABCDEFGHIJKLABCDEFGHIJKL'\n"
     ]
    }
   ],
   "source": [
    "icmp_data = b'ABCDEFGHIJKL'\n",
    "n = 33\n",
    "icmp_data = (icmp_data * ((n // 12) + 1))[:n]\n",
    "print (icmp_data)"
   ]
  }
 ],
 "metadata": {
  "kernelspec": {
   "display_name": "base",
   "language": "python",
   "name": "python3"
  },
  "language_info": {
   "codemirror_mode": {
    "name": "ipython",
    "version": 3
   },
   "file_extension": ".py",
   "mimetype": "text/x-python",
   "name": "python",
   "nbconvert_exporter": "python",
   "pygments_lexer": "ipython3",
   "version": "3.12.4"
  }
 },
 "nbformat": 4,
 "nbformat_minor": 2
}
