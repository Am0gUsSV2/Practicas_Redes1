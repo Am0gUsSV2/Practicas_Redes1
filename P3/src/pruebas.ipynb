{
 "cells": [
  {
   "cell_type": "code",
   "execution_count": 2,
   "metadata": {},
   "outputs": [],
   "source": [
    "import struct"
   ]
  },
  {
   "cell_type": "code",
   "execution_count": null,
   "metadata": {},
   "outputs": [
    {
     "name": "stdout",
     "output_type": "stream",
     "text": [
      "b'ABCDEFGHIJKLABCDEFGHIJKL'\n"
     ]
    }
   ],
   "source": [
    "icmp_data = b'ABCDEFGHIJKL'\n",
    "n = 33\n",
    "icmp_data = (icmp_data * ((n // 12) + 1))[:n]\n",
    "print (icmp_data)"
   ]
  },
  {
   "cell_type": "code",
   "execution_count": 8,
   "metadata": {},
   "outputs": [
    {
     "name": "stdout",
     "output_type": "stream",
     "text": [
      "IPv:  10\n",
      "IHL:  4\n"
     ]
    }
   ],
   "source": [
    "numero = 0b10100100 # 10 y 4\n",
    "\n",
    "data = struct.pack('B', numero)\n",
    "\n",
    "first_byte = data[0]\n",
    "ip_version = (first_byte & 0b11110000) >> 4\n",
    "ihl        = (first_byte & 0b00001111) >> 0\n",
    "\n",
    "print('IPv: ', ip_version)\n",
    "print('IHL: ', ihl)"
   ]
  },
  {
   "cell_type": "code",
   "execution_count": 7,
   "metadata": {},
   "outputs": [
    {
     "name": "stdout",
     "output_type": "stream",
     "text": [
      "<class 'int'>\n",
      "170\n"
     ]
    }
   ],
   "source": [
    "numero = 0xAABBCCDD\n",
    "\n",
    "data = bytes()\n",
    "data += struct.pack('!I', numero)\n",
    "\n",
    "fb = data[0]\n",
    "\n",
    "print(type(fb))\n",
    "print(fb)"
   ]
  },
  {
   "cell_type": "code",
   "execution_count": 19,
   "metadata": {},
   "outputs": [
    {
     "name": "stdout",
     "output_type": "stream",
     "text": [
      "0b11000010101011\n",
      "0b11000010101011\n"
     ]
    }
   ],
   "source": [
    "flags = 0b011\n",
    "offset = 0x00AB\n",
    "flags_and_offset = (flags << 12) + offset\n",
    "\n",
    "print(bin(flags_and_offset))\n",
    "\n",
    "\n",
    "data = bytes()\n",
    "data += struct.pack('!H', flags_and_offset)\n",
    "\n",
    "fo = struct.unpack('!H', data[0:2])[0]\n",
    "print(bin(fo))"
   ]
  },
  {
   "cell_type": "code",
   "execution_count": 4,
   "metadata": {},
   "outputs": [
    {
     "name": "stdout",
     "output_type": "stream",
     "text": [
      "3.123456\n"
     ]
    }
   ],
   "source": [
    "sec = 3\n",
    "usec = 123456\n",
    "\n",
    "total = sec + usec * 0.000001\n",
    "\n",
    "print(total)"
   ]
  },
  {
   "cell_type": "code",
   "execution_count": 2,
   "metadata": {},
   "outputs": [
    {
     "name": "stdout",
     "output_type": "stream",
     "text": [
      "MTU:         1000\n",
      "Data length: 1200\n",
      "\n",
      "Num comp fragments:    1\n",
      "Num part fragments:    1\n",
      "Max data per fragment: 976\n"
     ]
    }
   ],
   "source": [
    "myMtu = 1000\n",
    "\n",
    "LENGTH_IP_HEADER = 20\n",
    "ipOpts = None\n",
    "\n",
    "data = bytes(1200)\n",
    "\n",
    "\n",
    "\n",
    "\n",
    "# Determinar si se debe fragmentar\n",
    "len_data = len(data)\n",
    "len_ipOpts = 0 if ipOpts is None else len(ipOpts)\n",
    "len_header = LENGTH_IP_HEADER + len_ipOpts\n",
    "max_data_per_fragment = myMtu - len_header\n",
    "\n",
    "n_comp_fragments = 0    # Numero de fragmentos con longitud maxima\n",
    "n_part_fragments = 0    # Numero de fragmentos sin longitud maxima\n",
    "\n",
    "# Determinar si se partir los datos en varios fragmentos\n",
    "if len_data > max_data_per_fragment:\n",
    "    # Si la longitud de los datos utiles no es multiplo de 8 se hace que si lo sea\n",
    "    if (max_data_per_fragment % 8) != 0:\n",
    "        max_data_per_fragment -= max_data_per_fragment % 8\n",
    "\n",
    "    n_comp_fragments = len_data // max_data_per_fragment\n",
    "    if (len_data % max_data_per_fragment) != 0:\n",
    "        n_part_fragments = 1\n",
    "\n",
    "# Hay que enviar un unico fragmento de longitud maxima\n",
    "elif len_data == max_data_per_fragment:\n",
    "    n_comp_fragments = 1\n",
    "\n",
    "# Hay que enviar un unico fragmento sin longitud maxima\n",
    "else:\n",
    "    n_part_fragments = 1\n",
    "\n",
    "\n",
    "n_fragments = n_comp_fragments + n_part_fragments\n",
    "\n",
    "\n",
    "print(f'MTU:         {myMtu}')\n",
    "print(f'Data length: {len_data}', end='\\n\\n')\n",
    "\n",
    "print(f'Num comp fragments:    {n_comp_fragments}')\n",
    "print(f'Num part fragments:    {n_part_fragments}')\n",
    "print(f'Max data per fragment: {max_data_per_fragment}')\n"
   ]
  }
 ],
 "metadata": {
  "kernelspec": {
   "display_name": "Python 3",
   "language": "python",
   "name": "python3"
  },
  "language_info": {
   "codemirror_mode": {
    "name": "ipython",
    "version": 3
   },
   "file_extension": ".py",
   "mimetype": "text/x-python",
   "name": "python",
   "nbconvert_exporter": "python",
   "pygments_lexer": "ipython3",
   "version": "3.12.0"
  }
 },
 "nbformat": 4,
 "nbformat_minor": 2
}
