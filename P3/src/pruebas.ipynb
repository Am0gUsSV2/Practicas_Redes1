{
 "cells": [
  {
   "cell_type": "code",
   "execution_count": 2,
   "metadata": {},
   "outputs": [],
   "source": [
    "import struct"
   ]
  },
  {
   "cell_type": "code",
   "execution_count": null,
   "metadata": {},
   "outputs": [
    {
     "name": "stdout",
     "output_type": "stream",
     "text": [
      "b'ABCDEFGHIJKLABCDEFGHIJKL'\n"
     ]
    }
   ],
   "source": [
    "icmp_data = b'ABCDEFGHIJKL'\n",
    "n = 33\n",
    "icmp_data = (icmp_data * ((n // 12) + 1))[:n]\n",
    "print (icmp_data)"
   ]
  },
  {
   "cell_type": "code",
   "execution_count": 8,
   "metadata": {},
   "outputs": [
    {
     "name": "stdout",
     "output_type": "stream",
     "text": [
      "IPv:  10\n",
      "IHL:  4\n"
     ]
    }
   ],
   "source": [
    "numero = 0b10100100 # 10 y 4\n",
    "\n",
    "data = struct.pack('B', numero)\n",
    "\n",
    "first_byte = data[0]\n",
    "ip_version = (first_byte & 0b11110000) >> 4\n",
    "ihl        = (first_byte & 0b00001111) >> 0\n",
    "\n",
    "print('IPv: ', ip_version)\n",
    "print('IHL: ', ihl)"
   ]
  },
  {
   "cell_type": "code",
   "execution_count": 7,
   "metadata": {},
   "outputs": [
    {
     "name": "stdout",
     "output_type": "stream",
     "text": [
      "<class 'int'>\n",
      "170\n"
     ]
    }
   ],
   "source": [
    "numero = 0xAABBCCDD\n",
    "\n",
    "data = bytes()\n",
    "data += struct.pack('!I', numero)\n",
    "\n",
    "fb = data[0]\n",
    "\n",
    "print(type(fb))\n",
    "print(fb)"
   ]
  },
  {
   "cell_type": "code",
   "execution_count": 19,
   "metadata": {},
   "outputs": [
    {
     "name": "stdout",
     "output_type": "stream",
     "text": [
      "0b11000010101011\n",
      "0b11000010101011\n"
     ]
    }
   ],
   "source": [
    "flags = 0b011\n",
    "offset = 0x00AB\n",
    "flags_and_offset = (flags << 12) + offset\n",
    "\n",
    "print(bin(flags_and_offset))\n",
    "\n",
    "\n",
    "data = bytes()\n",
    "data += struct.pack('!H', flags_and_offset)\n",
    "\n",
    "fo = struct.unpack('!H', data[0:2])[0]\n",
    "print(bin(fo))"
   ]
  },
  {
   "cell_type": "code",
   "execution_count": 4,
   "metadata": {},
   "outputs": [
    {
     "name": "stdout",
     "output_type": "stream",
     "text": [
      "3.123456\n"
     ]
    }
   ],
   "source": [
    "sec = 3\n",
    "usec = 123456\n",
    "\n",
    "total = sec + usec * 0.000001\n",
    "\n",
    "print(total)"
   ]
  },
  {
   "cell_type": "code",
   "execution_count": null,
   "metadata": {},
   "outputs": [
    {
     "ename": "TypeError",
     "evalue": "'str' object cannot be interpreted as an integer",
     "output_type": "error",
     "traceback": [
      "\u001b[1;31m---------------------------------------------------------------------------\u001b[0m",
      "\u001b[1;31mTypeError\u001b[0m                                 Traceback (most recent call last)",
      "Cell \u001b[1;32mIn[1], line 6\u001b[0m\n\u001b[0;32m      3\u001b[0m LENGTH_IP_HEADER \u001b[38;5;241m=\u001b[39m \u001b[38;5;241m20\u001b[39m\n\u001b[0;32m      4\u001b[0m ipOpts \u001b[38;5;241m=\u001b[39m \u001b[38;5;28;01mNone\u001b[39;00m\n\u001b[1;32m----> 6\u001b[0m data \u001b[38;5;241m=\u001b[39m \u001b[38;5;28;43mbytes\u001b[39;49m\u001b[43m(\u001b[49m\u001b[43m[\u001b[49m\u001b[38;5;124;43m'\u001b[39;49m\u001b[38;5;124;43ma\u001b[39;49m\u001b[38;5;124;43m'\u001b[39;49m\u001b[43m \u001b[49m\u001b[38;5;28;43;01mfor\u001b[39;49;00m\u001b[43m \u001b[49m\u001b[43mi\u001b[49m\u001b[43m \u001b[49m\u001b[38;5;129;43;01min\u001b[39;49;00m\u001b[43m \u001b[49m\u001b[38;5;28;43mrange\u001b[39;49m\u001b[43m(\u001b[49m\u001b[38;5;241;43m1200\u001b[39;49m\u001b[43m)\u001b[49m\u001b[43m]\u001b[49m\u001b[43m)\u001b[49m\n\u001b[0;32m     11\u001b[0m \u001b[38;5;66;03m# Determinar si se debe fragmentar\u001b[39;00m\n\u001b[0;32m     12\u001b[0m len_data \u001b[38;5;241m=\u001b[39m \u001b[38;5;28mlen\u001b[39m(data)\n",
      "\u001b[1;31mTypeError\u001b[0m: 'str' object cannot be interpreted as an integer"
     ]
    }
   ],
   "source": [
    "myMtu = 1000\n",
    "\n",
    "LENGTH_IP_HEADER = 20\n",
    "ipOpts = None\n",
    "\n",
    "data = bytes(1200)\n",
    "\n",
    "\n",
    "\n",
    "\n",
    "# Determinar si se debe fragmentar\n",
    "len_data = len(data)\n",
    "len_ipOpts = 0 if ipOpts is None else len(ipOpts)\n",
    "len_header = LENGTH_IP_HEADER + len_ipOpts\n",
    "max_data_per_fragment = myMtu - len_header\n",
    "\n",
    "n_comp_fragments = 0    # Numero de fragmentos con longitud maxima\n",
    "n_part_fragments = 0    # Numero de fragmentos sin longitud maxima\n",
    "\n",
    "# Determinar si se partir los datos en varios fragmentos\n",
    "if len_data > max_data_per_fragment:\n",
    "    # Si la longitud de los datos utiles no es multiplo de 8 se hace que si lo sea\n",
    "    if (max_data_per_fragment % 8) != 0:\n",
    "        max_data_per_fragment -= max_data_per_fragment % 8\n",
    "\n",
    "    n_comp_fragments = len_data // max_data_per_fragment\n",
    "    if (len_data % max_data_per_fragment) != 0:\n",
    "        n_part_fragments = 1\n",
    "\n",
    "# Hay que enviar un unico fragmento de longitud maxima\n",
    "elif len_data == max_data_per_fragment:\n",
    "    n_comp_fragments = 1\n",
    "\n",
    "# Hay que enviar un unico fragmento sin longitud maxima\n",
    "else:\n",
    "    n_part_fragments = 1\n",
    "\n",
    "\n",
    "n_fragments = n_comp_fragments + n_part_fragments\n",
    "\n",
    "\n",
    "print(f'MTU:         {myMtu}')\n",
    "print(f'Data length: {len_data}', end='\\n\\n')\n",
    "\n",
    "print(f'Num comp fragments:    {n_comp_fragments}')\n",
    "print(f'Num part fragments:    {n_part_fragments}')\n",
    "print(f'Max data per fragment: {max_data_per_fragment}')\n"
   ]
  }
 ],
 "metadata": {
  "kernelspec": {
   "display_name": "Python 3",
   "language": "python",
   "name": "python3"
  },
  "language_info": {
   "codemirror_mode": {
    "name": "ipython",
    "version": 3
   },
   "file_extension": ".py",
   "mimetype": "text/x-python",
   "name": "python",
   "nbconvert_exporter": "python",
   "pygments_lexer": "ipython3",
   "version": "3.12.0"
  }
 },
 "nbformat": 4,
 "nbformat_minor": 2
}
