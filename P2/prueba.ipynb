{
 "cells": [
  {
   "cell_type": "markdown",
   "metadata": {},
   "source": [
    "## 6 bytes to int"
   ]
  },
  {
   "cell_type": "code",
   "execution_count": 45,
   "metadata": {},
   "outputs": [
    {
     "name": "stdout",
     "output_type": "stream",
     "text": [
      "b'\\x00\\x02\\x00\\x03\\x00\\x04'\n"
     ]
    }
   ],
   "source": [
    "import struct\n",
    "\n",
    "MAC = 0x020304\n",
    "\n",
    "data = []\n",
    "data[0:2] = struct.pack('!H', 2)\n",
    "data[2:4] = struct.pack('!H', 3)\n",
    "data[4:6] = struct.pack('!H', 4)\n",
    "\n",
    "data = bytes(data)\n",
    "\n",
    "print(data)"
   ]
  },
  {
   "cell_type": "code",
   "execution_count": 46,
   "metadata": {},
   "outputs": [
    {
     "name": "stdout",
     "output_type": "stream",
     "text": [
      "2\n",
      "3\n",
      "4\n"
     ]
    }
   ],
   "source": [
    "short1 = struct.unpack('!H', data[0:2])[0]\n",
    "short2 = struct.unpack('!H', data[2:4])[0]\n",
    "short3 = struct.unpack('!H', data[4:6])[0]\n",
    "\n",
    "print(short1)\n",
    "print(short2)\n",
    "print(short3)"
   ]
  },
  {
   "cell_type": "code",
   "execution_count": 47,
   "metadata": {},
   "outputs": [
    {
     "name": "stdout",
     "output_type": "stream",
     "text": [
      "0x20304\n",
      "True\n"
     ]
    }
   ],
   "source": [
    "mac1 = struct.unpack('!H', data[0:2])[0]\n",
    "mac2 = struct.unpack('!H', data[2:4])[0]\n",
    "mac3 = struct.unpack('!H', data[4:6])[0]\n",
    "\n",
    "mac = (mac1 << 16) + (mac2 << 8) + mac3\n",
    "\n",
    "print(hex(mac))\n",
    "print(MAC == mac)"
   ]
  },
  {
   "cell_type": "markdown",
   "metadata": {},
   "source": [
    "## Concatenación de bytes"
   ]
  },
  {
   "cell_type": "code",
   "execution_count": 55,
   "metadata": {},
   "outputs": [
    {
     "name": "stdout",
     "output_type": "stream",
     "text": [
      "Num1=0x10203040, Num2=0x50607080\n",
      "Num1=0x10203040, Num2=0x50607080\n"
     ]
    }
   ],
   "source": [
    "# Concatenar a bytes\n",
    "data = bytes()\n",
    "data += struct.pack('!I', 0x10203040)\n",
    "data += struct.pack('!I', 0x50607080)\n",
    "\n",
    "num1 = struct.unpack('!I', data[0:4])[0]\n",
    "num2 = struct.unpack('!I', data[4:8])[0]\n",
    "\n",
    "print(f'Num1={hex(num1)}, Num2={hex(num2)}')\n",
    "\n",
    "# Concatenar a lista\n",
    "data = []\n",
    "data[0:4] = struct.pack('!I', 0x10203040)\n",
    "data[4:8] = struct.pack('!I', 0x50607080)\n",
    "\n",
    "data = bytes(data)\n",
    "\n",
    "num1 = struct.unpack('!I', data[0:4])[0]\n",
    "num2 = struct.unpack('!I', data[4:8])[0]\n",
    "\n",
    "print(f'Num1={hex(num1)}, Num2={hex(num2)}')"
   ]
  },
  {
   "cell_type": "code",
   "execution_count": 69,
   "metadata": {},
   "outputs": [
    {
     "name": "stdout",
     "output_type": "stream",
     "text": [
      "0xff.0x0.0xdd.0x11\n",
      "255.0.221.17\n"
     ]
    }
   ],
   "source": [
    "ip = 0XFF00DD11\n",
    "\n",
    "ip1 = (ip & 0x000000FF) >> 0x00\n",
    "ip2 = (ip & 0x0000FF00) >> 0x08\n",
    "ip3 = (ip & 0x00FF0000) >> 0x10\n",
    "ip4 = (ip & 0xFF000000) >> 0x18\n",
    "\n",
    "\n",
    "print(f'{hex(ip4)}.{hex(ip3)}.{hex(ip2)}.{hex(ip1)}')\n",
    "print(f'{ip4}.{ip3}.{ip2}.{ip1}')\n"
   ]
  },
  {
   "cell_type": "markdown",
   "metadata": {},
   "source": [
    "## Extraccion del mensaje"
   ]
  },
  {
   "cell_type": "code",
   "execution_count": 3,
   "metadata": {},
   "outputs": [
    {
     "name": "stdout",
     "output_type": "stream",
     "text": [
      "b'caca'\n",
      "caca\n"
     ]
    }
   ],
   "source": [
    "mensaje = \"caca\"\n",
    "mb : bytes = mensaje.encode()\n",
    "print(mb)\n",
    "print(mb.decode())\n"
   ]
  }
 ],
 "metadata": {
  "kernelspec": {
   "display_name": "base",
   "language": "python",
   "name": "python3"
  },
  "language_info": {
   "codemirror_mode": {
    "name": "ipython",
    "version": 3
   },
   "file_extension": ".py",
   "mimetype": "text/x-python",
   "name": "python",
   "nbconvert_exporter": "python",
   "pygments_lexer": "ipython3",
   "version": "3.12.4"
  }
 },
 "nbformat": 4,
 "nbformat_minor": 2
}
